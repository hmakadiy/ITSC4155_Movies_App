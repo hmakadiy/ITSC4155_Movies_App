{
 "cells": [
  {
   "cell_type": "code",
   "execution_count": 1,
   "id": "d61e777e-8d0a-4fe9-9329-fd1dcd4f4521",
   "metadata": {},
   "outputs": [
    {
     "name": "stdout",
     "output_type": "stream",
     "text": [
      "10\n"
     ]
    }
   ],
   "source": [
    "p = 10;\n",
    "print(p);\n"
   ]
  },
  {
   "cell_type": "code",
   "execution_count": 3,
   "id": "cd70b122-5b02-4310-915e-ae23686b7de7",
   "metadata": {},
   "outputs": [
    {
     "ename": "SyntaxError",
     "evalue": "invalid syntax (3169832872.py, line 2)",
     "output_type": "error",
     "traceback": [
      "\u001b[0;36m  Input \u001b[0;32mIn [3]\u001b[0;36m\u001b[0m\n\u001b[0;31m    for (int i = 0; i < 10; i++) {\u001b[0m\n\u001b[0m             ^\u001b[0m\n\u001b[0;31mSyntaxError\u001b[0m\u001b[0;31m:\u001b[0m invalid syntax\n"
     ]
    }
   ],
   "source": [
    "p = 'penis';\n",
    "for (int i = 0; i < 10; i++) {\n",
    " print(p);   \n"
   ]
  },
  {
   "cell_type": "code",
   "execution_count": null,
   "id": "5fb0decd-df5c-484a-a020-f7feb8969a09",
   "metadata": {},
   "outputs": [],
   "source": []
  }
 ],
 "metadata": {
  "kernelspec": {
   "display_name": "Python 3 (ipykernel)",
   "language": "python",
   "name": "python3"
  },
  "language_info": {
   "codemirror_mode": {
    "name": "ipython",
    "version": 3
   },
   "file_extension": ".py",
   "mimetype": "text/x-python",
   "name": "python",
   "nbconvert_exporter": "python",
   "pygments_lexer": "ipython3",
   "version": "3.9.7"
  }
 },
 "nbformat": 4,
 "nbformat_minor": 5
}
